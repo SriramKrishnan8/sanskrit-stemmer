{
 "cells": [
  {
   "cell_type": "code",
   "execution_count": 1,
   "metadata": {},
   "outputs": [],
   "source": [
    "import sh_segmenter as sh"
   ]
  },
  {
   "cell_type": "code",
   "execution_count": 2,
   "metadata": {
    "scrolled": true
   },
   "outputs": [
    {
     "data": {
      "text/plain": [
       "'{\"word\": [\"gacCawi\"], \"morph\": [{\"derived_stem\": \"gam\", \"base\": \"\", \"derivatioanal_morph\": \"\", \"inflectional_morphs\": [\"pr. [1] ac. sg. 3\"]}, {\"derived_stem\": \"gacCaw\", \"base\": \"gam\", \"derivatioanal_morph\": \"ppr. [1] ac.\", \"inflectional_morphs\": [\"n. sg. loc.\", \"m. sg. loc.\"]}]}'"
      ]
     },
     "execution_count": 2,
     "metadata": {},
     "output_type": "execute_result"
    }
   ],
   "source": [
    "sh.run_stemmer(\"gacCawi\", \"word\")"
   ]
  },
  {
   "cell_type": "code",
   "execution_count": 3,
   "metadata": {},
   "outputs": [
    {
     "data": {
      "text/plain": [
       "'{\"word\": [\"hiwam\"], \"morph\": [{\"derived_stem\": \"hiwa#1\", \"base\": \"hi#2\", \"derivatioanal_morph\": \"pp.\", \"inflectional_morphs\": [\"n. sg. acc.\", \"n. sg. nom.\", \"m. sg. acc.\"]}, {\"derived_stem\": \"hiwa#2\", \"base\": \"XA#1\", \"derivatioanal_morph\": \"pp.\", \"inflectional_morphs\": [\"n. sg. acc.\", \"n. sg. nom.\", \"m. sg. acc.\"]}]}'"
      ]
     },
     "execution_count": 3,
     "metadata": {},
     "output_type": "execute_result"
    }
   ],
   "source": [
    "sh.run_stemmer(\"hiwam\", \"word\")"
   ]
  },
  {
   "cell_type": "code",
   "execution_count": 4,
   "metadata": {},
   "outputs": [
    {
     "data": {
      "text/plain": [
       "'{\"word\": [\"kaSciw kAnwA-viraha-guruNA svAXikArAw pramawwaH\", \"kaSciw kAnwA viraha-guruNA svAXikArAw pramawwaH\", \"kaH ciw-kAnwA-viraha-guruNA svAXikArAw pramawwaH\", \"kaH ciw-kAnwA viraha-guruNA svAXikArAw pramawwaH\", \"kaSciw kAnwA-viraha-guruNA sva-aXikArAw pramawwaH\", \"kaH ciw kAnwA-viraha-guruNA svAXikArAw pramawwaH\", \"kaSciw kAnwA viraha-guruNA sva-aXikArAw pramawwaH\", \"kaH ciw-kAnwA-viraha-guruNA sva-aXikArAw pramawwaH\", \"kaH ciw-kAnwA viraha-guruNA sva-aXikArAw pramawwaH\", \"kaH ciw kAnwA viraha-guruNA svAXikArAw pramawwaH\"], \"morph\": [{\"derived_stem\": \"kim\", \"base\": \"\", \"derivatioanal_morph\": \"\", \"inflectional_morphs\": [\"m. sg. nom.\"]}, {\"derived_stem\": \"kiFciw\", \"base\": \"\", \"derivatioanal_morph\": \"\", \"inflectional_morphs\": [\"m. sg. nom.\"]}, {\"derived_stem\": \"ciw#2\", \"base\": \"\", \"derivatioanal_morph\": \"\", \"inflectional_morphs\": [\"iic.\"]}, {\"derived_stem\": \"ciw#2\", \"base\": \"\", \"derivatioanal_morph\": \"\", \"inflectional_morphs\": [\"m. sg. nom.\", \"n. sg. acc.\", \"n. sg. nom.\", \"f. sg. nom.\"]}, {\"derived_stem\": \"kAnwA\", \"base\": \"\", \"derivatioanal_morph\": \"\", \"inflectional_morphs\": [\"iic.\"]}, {\"derived_stem\": \"kAnwa\", \"base\": \"kam\", \"derivatioanal_morph\": \"pp.\", \"inflectional_morphs\": [\"f. sg. nom.\"]}, {\"derived_stem\": \"viraha\", \"base\": \"\", \"derivatioanal_morph\": \"\", \"inflectional_morphs\": [\"iic.\"]}, {\"derived_stem\": \"guru\", \"base\": \"\", \"derivatioanal_morph\": \"\", \"inflectional_morphs\": [\"m. sg. i.\", \"n. sg. i.\"]}, {\"derived_stem\": \"sva\", \"base\": \"\", \"derivatioanal_morph\": \"\", \"inflectional_morphs\": [\"iic.\"]}, {\"derived_stem\": \"svAXikAra\", \"base\": \"\", \"derivatioanal_morph\": \"\", \"inflectional_morphs\": [\"m. sg. abl.\"]}, {\"derived_stem\": \"aXikAra\", \"base\": \"\", \"derivatioanal_morph\": \"\", \"inflectional_morphs\": [\"n. sg. abl.\"]}, {\"derived_stem\": \"aXikAra\", \"base\": \"\", \"derivatioanal_morph\": \"\", \"inflectional_morphs\": [\"m. sg. abl.\"]}, {\"derived_stem\": \"pra-mawwa\", \"base\": \"pra-max#1\", \"derivatioanal_morph\": \"pp.\", \"inflectional_morphs\": [\"m. sg. nom.\"]}]}'"
      ]
     },
     "execution_count": 4,
     "metadata": {},
     "output_type": "execute_result"
    }
   ],
   "source": [
    "sh.run_stemmer(\"kaSciw kAnwAvirahaguruNA svAXikArAw pramawwaH\", \"sent-joint\")"
   ]
  },
  {
   "cell_type": "code",
   "execution_count": null,
   "metadata": {},
   "outputs": [],
   "source": [
    "sh.run_stemmer(\"anasUyanwaH\",\"word\")"
   ]
  }
 ],
 "metadata": {
  "kernelspec": {
   "display_name": "Python 3",
   "language": "python",
   "name": "python3"
  },
  "language_info": {
   "codemirror_mode": {
    "name": "ipython",
    "version": 3
   },
   "file_extension": ".py",
   "mimetype": "text/x-python",
   "name": "python",
   "nbconvert_exporter": "python",
   "pygments_lexer": "ipython3",
   "version": "3.8.10"
  }
 },
 "nbformat": 4,
 "nbformat_minor": 4
}
