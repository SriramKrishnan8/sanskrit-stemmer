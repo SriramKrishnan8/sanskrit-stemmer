{
 "cells": [
  {
   "cell_type": "markdown",
   "metadata": {},
   "source": [
    "# Sanskrit Stemmer using Sanskrit Heritage Segmenter\n",
    "\n",
    "## Usage\n",
    "\n",
    "[Sanskrit Heritage Reader](https://sanskrit.inria.fr/) produces the segmented forms of a given sentence. It also produces the morphological analysis of each of the segments. Hence, the segmenter has been used here as a morphological analyser."
   ]
  },
  {
   "cell_type": "markdown",
   "metadata": {},
   "source": [
    "Import `sh_segmenter` to start using the stemmer. `sh_segmenter.py` has functions to get the stemming format and normalize the input_text and then access the Sanskrit Heritage Segmenter to generate the morphological analyses"
   ]
  },
  {
   "cell_type": "code",
   "execution_count": null,
   "metadata": {},
   "outputs": [],
   "source": [
    "import sh_segmenter as sh"
   ]
  },
  {
   "cell_type": "markdown",
   "metadata": {},
   "source": [
    "`urlname` is a global variable containing the Sanskrit Heritage Segmenter's url (http://sanskrit.inria.fr/cgi-bin/SKT/sktgraph2.cgi). Change this to (http://localhost/cgi-bin/SKT/sktgraph2 or the corresponding cgi file) if the Segmenter installed in the local machine."
   ]
  },
  {
   "cell_type": "code",
   "execution_count": 4,
   "metadata": {},
   "outputs": [],
   "source": [
    "urlname = \"http://sanskrit.inria.fr/cgi-bin/SKT/sktgraph2.cgi\""
   ]
  },
  {
   "cell_type": "markdown",
   "metadata": {},
   "source": [
    "Call `run_stemmer` to get the morphological analysis.\n",
    "\n",
    "### Input\n",
    "\n",
    "It has two inputs:\n",
    "\n",
    "1. input_text -> input word or sentence in WX notation\n",
    "2. stemmer_format -> `word`, `sent-iter`, `sent-joint`\n",
    "    * sent-iter -> gets the morphological analyses of each of the words individually and then merges the results\n",
    "    * sent-joint -> segments the given sentence and then gets the morphological analyses of each of the segments"
   ]
  },
  {
   "cell_type": "code",
   "execution_count": 2,
   "metadata": {},
   "outputs": [
    {
     "data": {
      "text/plain": [
       "'{\"word\": [\"gacCawi\"], \"morph\": [{\"derived_stem\": \"gam\", \"base\": \"\", \"derivatioanal_morph\": \"\", \"inflectional_morphs\": [\"pr. [1] ac. sg. 3\"]}, {\"derived_stem\": \"gacCaw\", \"base\": \"gam\", \"derivatioanal_morph\": \"ppr. [1] ac.\", \"inflectional_morphs\": [\"n. sg. loc.\", \"m. sg. loc.\"]}]}'"
      ]
     },
     "execution_count": 2,
     "metadata": {},
     "output_type": "execute_result"
    }
   ],
   "source": [
    "sh.run_stemmer(\"gacCawi\", \"word\")"
   ]
  },
  {
   "cell_type": "markdown",
   "metadata": {},
   "source": [
    "### Output\n",
    "\n",
    "The output is in json with two key-value pairs:\n",
    "\n",
    "1. word -> segmented form\n",
    "2. morph -> list containing the possible morphological analyses with each entry having the following key-value pairs:\n",
    "    * derived_stem -> the stem/root (prātipadika/dhātu)\n",
    "    * base -> if the form is derived, this field has the base stem/root\n",
    "    * derivatioanal_morph -> if the form is derived, this field has the derivational morph analysis\n",
    "    * inflectional_morph -> list of possible inflectional morph analysis\n",
    "\n",
    "The stem/root may contain '#number' indicating the homonymy index according to the Sanskrit Heritage Engine's lexicon."
   ]
  },
  {
   "cell_type": "code",
   "execution_count": 6,
   "metadata": {},
   "outputs": [
    {
     "data": {
      "text/plain": [
       "'{\"word\": [\"hiwam\"], \"morph\": [{\"derived_stem\": \"hiwa#1\", \"base\": \"hi#2\", \"derivatioanal_morph\": \"pp.\", \"inflectional_morphs\": [\"n. sg. acc.\", \"n. sg. nom.\", \"m. sg. acc.\"]}, {\"derived_stem\": \"hiwa#2\", \"base\": \"XA#1\", \"derivatioanal_morph\": \"pp.\", \"inflectional_morphs\": [\"n. sg. acc.\", \"n. sg. nom.\", \"m. sg. acc.\"]}]}'"
      ]
     },
     "execution_count": 6,
     "metadata": {},
     "output_type": "execute_result"
    }
   ],
   "source": [
    "sh.run_stemmer(\"hiwam\", \"word\")"
   ]
  },
  {
   "cell_type": "markdown",
   "metadata": {},
   "source": [
    "### Stemming a sentence\n",
    "\n",
    "To run a sentence, the parameter for `stemmer_format` is `sent-joint`"
   ]
  },
  {
   "cell_type": "code",
   "execution_count": 7,
   "metadata": {},
   "outputs": [
    {
     "data": {
      "text/plain": [
       "'{\"word\": [\"kaSciw kAnwA-viraha-guruNA svAXikArAw pramawwaH\", \"kaSciw kAnwA viraha-guruNA svAXikArAw pramawwaH\", \"kaH ciw-kAnwA-viraha-guruNA svAXikArAw pramawwaH\", \"kaH ciw-kAnwA viraha-guruNA svAXikArAw pramawwaH\", \"kaSciw kAnwA-viraha-guruNA sva-aXikArAw pramawwaH\", \"kaH ciw kAnwA-viraha-guruNA svAXikArAw pramawwaH\", \"kaSciw kAnwA viraha-guruNA sva-aXikArAw pramawwaH\", \"kaH ciw-kAnwA-viraha-guruNA sva-aXikArAw pramawwaH\", \"kaH ciw-kAnwA viraha-guruNA sva-aXikArAw pramawwaH\", \"kaH ciw kAnwA viraha-guruNA svAXikArAw pramawwaH\"], \"morph\": [{\"derived_stem\": \"kim\", \"base\": \"\", \"derivatioanal_morph\": \"\", \"inflectional_morphs\": [\"m. sg. nom.\"]}, {\"derived_stem\": \"kiFciw\", \"base\": \"\", \"derivatioanal_morph\": \"\", \"inflectional_morphs\": [\"m. sg. nom.\"]}, {\"derived_stem\": \"ciw#2\", \"base\": \"\", \"derivatioanal_morph\": \"\", \"inflectional_morphs\": [\"iic.\"]}, {\"derived_stem\": \"ciw#2\", \"base\": \"\", \"derivatioanal_morph\": \"\", \"inflectional_morphs\": [\"m. sg. nom.\", \"n. sg. acc.\", \"n. sg. nom.\", \"f. sg. nom.\"]}, {\"derived_stem\": \"kAnwA\", \"base\": \"\", \"derivatioanal_morph\": \"\", \"inflectional_morphs\": [\"iic.\"]}, {\"derived_stem\": \"kAnwa\", \"base\": \"kam\", \"derivatioanal_morph\": \"pp.\", \"inflectional_morphs\": [\"f. sg. nom.\"]}, {\"derived_stem\": \"viraha\", \"base\": \"\", \"derivatioanal_morph\": \"\", \"inflectional_morphs\": [\"iic.\"]}, {\"derived_stem\": \"guru\", \"base\": \"\", \"derivatioanal_morph\": \"\", \"inflectional_morphs\": [\"m. sg. i.\", \"n. sg. i.\"]}, {\"derived_stem\": \"sva\", \"base\": \"\", \"derivatioanal_morph\": \"\", \"inflectional_morphs\": [\"iic.\"]}, {\"derived_stem\": \"svAXikAra\", \"base\": \"\", \"derivatioanal_morph\": \"\", \"inflectional_morphs\": [\"m. sg. abl.\"]}, {\"derived_stem\": \"aXikAra\", \"base\": \"\", \"derivatioanal_morph\": \"\", \"inflectional_morphs\": [\"n. sg. abl.\"]}, {\"derived_stem\": \"aXikAra\", \"base\": \"\", \"derivatioanal_morph\": \"\", \"inflectional_morphs\": [\"m. sg. abl.\"]}, {\"derived_stem\": \"pra-mawwa\", \"base\": \"pra-max#1\", \"derivatioanal_morph\": \"pp.\", \"inflectional_morphs\": [\"m. sg. nom.\"]}]}'"
      ]
     },
     "execution_count": 7,
     "metadata": {},
     "output_type": "execute_result"
    }
   ],
   "source": [
    "sh.run_stemmer(\"kaSciw kAnwAvirahaguruNA svAXikArAw pramawwaH\", \"sent-joint\")"
   ]
  },
  {
   "cell_type": "markdown",
   "metadata": {},
   "source": [
    "For sentence-based morph analysis, the `word` parameter will have the possible segmentation solutions. And the `morph` parameter will have all the segments present in the possible segmentation solutions."
   ]
  },
  {
   "cell_type": "markdown",
   "metadata": {},
   "source": [
    "### Errors\n",
    "\n",
    "Sometimes, the stemmer results into incorrect analysis and it is possible due to the following reasons:\n",
    "1. The Sanskrit Heritage Lexicon will not have the intended stem or root and this will produce in an incorrect analysis. (Out of Vocabulary words)\n",
    "2. There could be segmentation errors\n",
    "\n",
    "These are indicated with the following cues:\n",
    "1. `derived_stem` will have the same value as the input\n",
    "2. `inflectional_morph` will have a \"?\" as the entry"
   ]
  },
  {
   "cell_type": "code",
   "execution_count": 8,
   "metadata": {},
   "outputs": [
    {
     "data": {
      "text/plain": [
       "'{\"word\": [\"anasUyanwaH\"], \"morph\": [{\"derived_stem\": \"anasUyanwaH\", \"base\": \"\", \"derivatioanal_morph\": \"\", \"inflectional_morphs\": [\"?\"]}]}'"
      ]
     },
     "execution_count": 8,
     "metadata": {},
     "output_type": "execute_result"
    }
   ],
   "source": [
    "sh.run_stemmer(\"anasUyanwaH\",\"word\")"
   ]
  },
  {
   "cell_type": "markdown",
   "metadata": {},
   "source": [
    "## Running the scripts directly\n",
    "\n",
    "The script `sanskrit_stemmer.py` can be directly run with input_text and stemmer_format as arguments:\n",
    "\n",
    "```\n",
    "python3 sanskrit_stemmer.py \"gacCawi\" \"word\"\n",
    "python3 sanskrit_stemmer.py \"kaSciw kAnwAvirahaguruNA svAXikArAw pramawwaH\" \"sent-joint\"\n",
    "```\n",
    "\n",
    "Also, a file containing words (separated by newline) can be fed to the script `sanskrit_stemmer_file.py` along with an output_file (json) and stemmer_format. The results (in json format) are written to the output file.\n",
    "\n",
    "```\n",
    "python3 sanskrit_stemmer.py sample_input_words.txt sample_output_words.json \"word\"\n",
    "python3 sanskrit_stemmer.py sample_input_sents.txt sample_output_sents.json \"sent-joint\"\n",
    "```\n",
    "\n",
    "A shell script `sanskrit_stemmer.sh` and sample input files (`sample_input_words.txt` and `sample_input_sents.txt`) are also provided."
   ]
  },
  {
   "cell_type": "markdown",
   "metadata": {},
   "source": [
    "## Additional Information\n",
    "\n",
    "### Modes of Segmenter\n",
    "\n",
    "There are two modes of the Segmenter:\n",
    "\n",
    "1. In mode 1 (indicated by the parameter value 'g'), all segments are generated\n",
    "2. In mode 2 (indicated by the parameter value 'b'), best segments are chosen from the set of all segments using some heuristics.\n",
    "\n",
    "This stemmer uses the best mode to choose the best possible segments and rejects the less likely segments. Further, the best mode can be made to return either the best solution or the best 10 solutions.\n",
    "\n",
    "Functions `request_word_analysis` and `request_sentence_analysis` initialize the parameters in the variabl `env_vars`. The `mode` parameter can be modified according to the requirement:\n",
    "* 'b' -> for best 10 seolutions\n",
    "* 'f' -> for the first solution alone\n",
    "\n",
    "Examples will be uploaded soon.."
   ]
  },
  {
   "cell_type": "markdown",
   "metadata": {},
   "source": [
    "---\n",
    "These examples are provided in the sample_stemming notebook"
   ]
  }
 ],
 "metadata": {
  "kernelspec": {
   "display_name": "Python 3",
   "language": "python",
   "name": "python3"
  },
  "language_info": {
   "codemirror_mode": {
    "name": "ipython",
    "version": 3
   },
   "file_extension": ".py",
   "mimetype": "text/x-python",
   "name": "python",
   "nbconvert_exporter": "python",
   "pygments_lexer": "ipython3",
   "version": "3.8.10"
  }
 },
 "nbformat": 4,
 "nbformat_minor": 4
}
